{
 "cells": [
  {
   "cell_type": "code",
   "execution_count": 1,
   "metadata": {},
   "outputs": [],
   "source": [
    "import numpy as np\n",
    "import pandas as pd\n",
    "import tensorflow as tf\n",
    "import matplotlib.pyplot as plt\n",
    "from sklearn import model_selection\n",
    "from sklearn import svm\n",
    "from sklearn.model_selection import cross_val_score\n",
    "import sklearn.metrics as metrics\n",
    "from sklearn.metrics import precision_recall_fscore_support\n",
    "from sklearn.decomposition import FastICA\n",
    "import seaborn as sns\n",
    "from sklearn.metrics import classification_report, confusion_matrix\n",
    "from sklearn.ensemble import RandomForestClassifier\n",
    "from sklearn.ensemble import ExtraTreesClassifier\n",
    "from sklearn.tree import DecisionTreeClassifier\n",
    "from sklearn import preprocessing\n",
    "from sklearn.preprocessing import LabelEncoder\n",
    "from sklearn.preprocessing import StandardScaler\n",
    "from sklearn.decomposition import PCA\n",
    "from sklearn.discriminant_analysis import LinearDiscriminantAnalysis\n",
    "from sklearn.metrics import precision_recall_fscore_support"
   ]
  },
  {
   "cell_type": "code",
   "execution_count": 2,
   "metadata": {},
   "outputs": [],
   "source": [
    "#df = pd.read_csv(\"heart.csv\")\n",
    "#df = pd.read_csv(\"cardio.csv\")\n",
    "#df = pd.read_csv(\"framingham.csv\")\n",
    "df = pd.read_csv(\"filtered_framingham.csv\")\n",
    "#df = pd.read_csv(\"balanced_framingham.csv\")"
   ]
  },
  {
   "cell_type": "code",
   "execution_count": 3,
   "metadata": {},
   "outputs": [
    {
     "data": {
      "text/html": [
       "<div>\n",
       "<style scoped>\n",
       "    .dataframe tbody tr th:only-of-type {\n",
       "        vertical-align: middle;\n",
       "    }\n",
       "\n",
       "    .dataframe tbody tr th {\n",
       "        vertical-align: top;\n",
       "    }\n",
       "\n",
       "    .dataframe thead th {\n",
       "        text-align: right;\n",
       "    }\n",
       "</style>\n",
       "<table border=\"1\" class=\"dataframe\">\n",
       "  <thead>\n",
       "    <tr style=\"text-align: right;\">\n",
       "      <th></th>\n",
       "      <th>Unnamed: 0</th>\n",
       "      <th>male</th>\n",
       "      <th>age</th>\n",
       "      <th>education</th>\n",
       "      <th>currentSmoker</th>\n",
       "      <th>BPMeds</th>\n",
       "      <th>prevalentStroke</th>\n",
       "      <th>prevalentHyp</th>\n",
       "      <th>diabetes</th>\n",
       "      <th>totChol</th>\n",
       "      <th>BMI</th>\n",
       "      <th>heartRate</th>\n",
       "      <th>TenYearCHD</th>\n",
       "    </tr>\n",
       "  </thead>\n",
       "  <tbody>\n",
       "    <tr>\n",
       "      <td>0</td>\n",
       "      <td>0</td>\n",
       "      <td>1</td>\n",
       "      <td>39</td>\n",
       "      <td>4.0</td>\n",
       "      <td>0</td>\n",
       "      <td>0.0</td>\n",
       "      <td>0</td>\n",
       "      <td>0</td>\n",
       "      <td>0</td>\n",
       "      <td>195.0</td>\n",
       "      <td>26.97</td>\n",
       "      <td>80.0</td>\n",
       "      <td>0</td>\n",
       "    </tr>\n",
       "    <tr>\n",
       "      <td>1</td>\n",
       "      <td>1</td>\n",
       "      <td>0</td>\n",
       "      <td>46</td>\n",
       "      <td>2.0</td>\n",
       "      <td>0</td>\n",
       "      <td>0.0</td>\n",
       "      <td>0</td>\n",
       "      <td>0</td>\n",
       "      <td>0</td>\n",
       "      <td>250.0</td>\n",
       "      <td>28.73</td>\n",
       "      <td>95.0</td>\n",
       "      <td>0</td>\n",
       "    </tr>\n",
       "    <tr>\n",
       "      <td>2</td>\n",
       "      <td>2</td>\n",
       "      <td>1</td>\n",
       "      <td>48</td>\n",
       "      <td>1.0</td>\n",
       "      <td>1</td>\n",
       "      <td>0.0</td>\n",
       "      <td>0</td>\n",
       "      <td>0</td>\n",
       "      <td>0</td>\n",
       "      <td>245.0</td>\n",
       "      <td>25.34</td>\n",
       "      <td>75.0</td>\n",
       "      <td>0</td>\n",
       "    </tr>\n",
       "    <tr>\n",
       "      <td>3</td>\n",
       "      <td>3</td>\n",
       "      <td>0</td>\n",
       "      <td>61</td>\n",
       "      <td>3.0</td>\n",
       "      <td>1</td>\n",
       "      <td>0.0</td>\n",
       "      <td>0</td>\n",
       "      <td>1</td>\n",
       "      <td>0</td>\n",
       "      <td>225.0</td>\n",
       "      <td>28.58</td>\n",
       "      <td>65.0</td>\n",
       "      <td>1</td>\n",
       "    </tr>\n",
       "    <tr>\n",
       "      <td>4</td>\n",
       "      <td>4</td>\n",
       "      <td>0</td>\n",
       "      <td>46</td>\n",
       "      <td>3.0</td>\n",
       "      <td>1</td>\n",
       "      <td>0.0</td>\n",
       "      <td>0</td>\n",
       "      <td>0</td>\n",
       "      <td>0</td>\n",
       "      <td>285.0</td>\n",
       "      <td>23.10</td>\n",
       "      <td>85.0</td>\n",
       "      <td>0</td>\n",
       "    </tr>\n",
       "    <tr>\n",
       "      <td>...</td>\n",
       "      <td>...</td>\n",
       "      <td>...</td>\n",
       "      <td>...</td>\n",
       "      <td>...</td>\n",
       "      <td>...</td>\n",
       "      <td>...</td>\n",
       "      <td>...</td>\n",
       "      <td>...</td>\n",
       "      <td>...</td>\n",
       "      <td>...</td>\n",
       "      <td>...</td>\n",
       "      <td>...</td>\n",
       "      <td>...</td>\n",
       "    </tr>\n",
       "    <tr>\n",
       "      <td>4235</td>\n",
       "      <td>4235</td>\n",
       "      <td>0</td>\n",
       "      <td>48</td>\n",
       "      <td>2.0</td>\n",
       "      <td>1</td>\n",
       "      <td>0.0</td>\n",
       "      <td>0</td>\n",
       "      <td>0</td>\n",
       "      <td>0</td>\n",
       "      <td>248.0</td>\n",
       "      <td>22.00</td>\n",
       "      <td>84.0</td>\n",
       "      <td>0</td>\n",
       "    </tr>\n",
       "    <tr>\n",
       "      <td>4236</td>\n",
       "      <td>4236</td>\n",
       "      <td>0</td>\n",
       "      <td>44</td>\n",
       "      <td>1.0</td>\n",
       "      <td>1</td>\n",
       "      <td>0.0</td>\n",
       "      <td>0</td>\n",
       "      <td>0</td>\n",
       "      <td>0</td>\n",
       "      <td>210.0</td>\n",
       "      <td>19.16</td>\n",
       "      <td>86.0</td>\n",
       "      <td>0</td>\n",
       "    </tr>\n",
       "    <tr>\n",
       "      <td>4237</td>\n",
       "      <td>4237</td>\n",
       "      <td>0</td>\n",
       "      <td>52</td>\n",
       "      <td>2.0</td>\n",
       "      <td>0</td>\n",
       "      <td>0.0</td>\n",
       "      <td>0</td>\n",
       "      <td>0</td>\n",
       "      <td>0</td>\n",
       "      <td>269.0</td>\n",
       "      <td>21.47</td>\n",
       "      <td>80.0</td>\n",
       "      <td>0</td>\n",
       "    </tr>\n",
       "    <tr>\n",
       "      <td>4238</td>\n",
       "      <td>4238</td>\n",
       "      <td>1</td>\n",
       "      <td>40</td>\n",
       "      <td>3.0</td>\n",
       "      <td>0</td>\n",
       "      <td>0.0</td>\n",
       "      <td>0</td>\n",
       "      <td>1</td>\n",
       "      <td>0</td>\n",
       "      <td>185.0</td>\n",
       "      <td>25.60</td>\n",
       "      <td>67.0</td>\n",
       "      <td>0</td>\n",
       "    </tr>\n",
       "    <tr>\n",
       "      <td>4239</td>\n",
       "      <td>4239</td>\n",
       "      <td>0</td>\n",
       "      <td>39</td>\n",
       "      <td>3.0</td>\n",
       "      <td>1</td>\n",
       "      <td>0.0</td>\n",
       "      <td>0</td>\n",
       "      <td>0</td>\n",
       "      <td>0</td>\n",
       "      <td>196.0</td>\n",
       "      <td>20.91</td>\n",
       "      <td>85.0</td>\n",
       "      <td>0</td>\n",
       "    </tr>\n",
       "  </tbody>\n",
       "</table>\n",
       "<p>4240 rows × 13 columns</p>\n",
       "</div>"
      ],
      "text/plain": [
       "      Unnamed: 0  male  age  education  currentSmoker  BPMeds  \\\n",
       "0              0     1   39        4.0              0     0.0   \n",
       "1              1     0   46        2.0              0     0.0   \n",
       "2              2     1   48        1.0              1     0.0   \n",
       "3              3     0   61        3.0              1     0.0   \n",
       "4              4     0   46        3.0              1     0.0   \n",
       "...          ...   ...  ...        ...            ...     ...   \n",
       "4235        4235     0   48        2.0              1     0.0   \n",
       "4236        4236     0   44        1.0              1     0.0   \n",
       "4237        4237     0   52        2.0              0     0.0   \n",
       "4238        4238     1   40        3.0              0     0.0   \n",
       "4239        4239     0   39        3.0              1     0.0   \n",
       "\n",
       "      prevalentStroke  prevalentHyp  diabetes  totChol    BMI  heartRate  \\\n",
       "0                   0             0         0    195.0  26.97       80.0   \n",
       "1                   0             0         0    250.0  28.73       95.0   \n",
       "2                   0             0         0    245.0  25.34       75.0   \n",
       "3                   0             1         0    225.0  28.58       65.0   \n",
       "4                   0             0         0    285.0  23.10       85.0   \n",
       "...               ...           ...       ...      ...    ...        ...   \n",
       "4235                0             0         0    248.0  22.00       84.0   \n",
       "4236                0             0         0    210.0  19.16       86.0   \n",
       "4237                0             0         0    269.0  21.47       80.0   \n",
       "4238                0             1         0    185.0  25.60       67.0   \n",
       "4239                0             0         0    196.0  20.91       85.0   \n",
       "\n",
       "      TenYearCHD  \n",
       "0              0  \n",
       "1              0  \n",
       "2              0  \n",
       "3              1  \n",
       "4              0  \n",
       "...          ...  \n",
       "4235           0  \n",
       "4236           0  \n",
       "4237           0  \n",
       "4238           0  \n",
       "4239           0  \n",
       "\n",
       "[4240 rows x 13 columns]"
      ]
     },
     "execution_count": 3,
     "metadata": {},
     "output_type": "execute_result"
    }
   ],
   "source": [
    "df"
   ]
  },
  {
   "cell_type": "code",
   "execution_count": 4,
   "metadata": {},
   "outputs": [],
   "source": [
    "#df =df.drop(['id','age'],axis = 1)\n",
    "df = df.drop(['Unnamed: 0'], axis = 1)"
   ]
  },
  {
   "cell_type": "code",
   "execution_count": 5,
   "metadata": {},
   "outputs": [
    {
     "data": {
      "text/html": [
       "<div>\n",
       "<style scoped>\n",
       "    .dataframe tbody tr th:only-of-type {\n",
       "        vertical-align: middle;\n",
       "    }\n",
       "\n",
       "    .dataframe tbody tr th {\n",
       "        vertical-align: top;\n",
       "    }\n",
       "\n",
       "    .dataframe thead th {\n",
       "        text-align: right;\n",
       "    }\n",
       "</style>\n",
       "<table border=\"1\" class=\"dataframe\">\n",
       "  <thead>\n",
       "    <tr style=\"text-align: right;\">\n",
       "      <th></th>\n",
       "      <th>male</th>\n",
       "      <th>age</th>\n",
       "      <th>education</th>\n",
       "      <th>currentSmoker</th>\n",
       "      <th>BPMeds</th>\n",
       "      <th>prevalentStroke</th>\n",
       "      <th>prevalentHyp</th>\n",
       "      <th>diabetes</th>\n",
       "      <th>totChol</th>\n",
       "      <th>BMI</th>\n",
       "      <th>heartRate</th>\n",
       "      <th>TenYearCHD</th>\n",
       "    </tr>\n",
       "  </thead>\n",
       "  <tbody>\n",
       "    <tr>\n",
       "      <td>0</td>\n",
       "      <td>1</td>\n",
       "      <td>39</td>\n",
       "      <td>4.0</td>\n",
       "      <td>0</td>\n",
       "      <td>0.0</td>\n",
       "      <td>0</td>\n",
       "      <td>0</td>\n",
       "      <td>0</td>\n",
       "      <td>195.0</td>\n",
       "      <td>26.97</td>\n",
       "      <td>80.0</td>\n",
       "      <td>0</td>\n",
       "    </tr>\n",
       "    <tr>\n",
       "      <td>1</td>\n",
       "      <td>0</td>\n",
       "      <td>46</td>\n",
       "      <td>2.0</td>\n",
       "      <td>0</td>\n",
       "      <td>0.0</td>\n",
       "      <td>0</td>\n",
       "      <td>0</td>\n",
       "      <td>0</td>\n",
       "      <td>250.0</td>\n",
       "      <td>28.73</td>\n",
       "      <td>95.0</td>\n",
       "      <td>0</td>\n",
       "    </tr>\n",
       "    <tr>\n",
       "      <td>2</td>\n",
       "      <td>1</td>\n",
       "      <td>48</td>\n",
       "      <td>1.0</td>\n",
       "      <td>1</td>\n",
       "      <td>0.0</td>\n",
       "      <td>0</td>\n",
       "      <td>0</td>\n",
       "      <td>0</td>\n",
       "      <td>245.0</td>\n",
       "      <td>25.34</td>\n",
       "      <td>75.0</td>\n",
       "      <td>0</td>\n",
       "    </tr>\n",
       "    <tr>\n",
       "      <td>3</td>\n",
       "      <td>0</td>\n",
       "      <td>61</td>\n",
       "      <td>3.0</td>\n",
       "      <td>1</td>\n",
       "      <td>0.0</td>\n",
       "      <td>0</td>\n",
       "      <td>1</td>\n",
       "      <td>0</td>\n",
       "      <td>225.0</td>\n",
       "      <td>28.58</td>\n",
       "      <td>65.0</td>\n",
       "      <td>1</td>\n",
       "    </tr>\n",
       "    <tr>\n",
       "      <td>4</td>\n",
       "      <td>0</td>\n",
       "      <td>46</td>\n",
       "      <td>3.0</td>\n",
       "      <td>1</td>\n",
       "      <td>0.0</td>\n",
       "      <td>0</td>\n",
       "      <td>0</td>\n",
       "      <td>0</td>\n",
       "      <td>285.0</td>\n",
       "      <td>23.10</td>\n",
       "      <td>85.0</td>\n",
       "      <td>0</td>\n",
       "    </tr>\n",
       "    <tr>\n",
       "      <td>...</td>\n",
       "      <td>...</td>\n",
       "      <td>...</td>\n",
       "      <td>...</td>\n",
       "      <td>...</td>\n",
       "      <td>...</td>\n",
       "      <td>...</td>\n",
       "      <td>...</td>\n",
       "      <td>...</td>\n",
       "      <td>...</td>\n",
       "      <td>...</td>\n",
       "      <td>...</td>\n",
       "      <td>...</td>\n",
       "    </tr>\n",
       "    <tr>\n",
       "      <td>4235</td>\n",
       "      <td>0</td>\n",
       "      <td>48</td>\n",
       "      <td>2.0</td>\n",
       "      <td>1</td>\n",
       "      <td>0.0</td>\n",
       "      <td>0</td>\n",
       "      <td>0</td>\n",
       "      <td>0</td>\n",
       "      <td>248.0</td>\n",
       "      <td>22.00</td>\n",
       "      <td>84.0</td>\n",
       "      <td>0</td>\n",
       "    </tr>\n",
       "    <tr>\n",
       "      <td>4236</td>\n",
       "      <td>0</td>\n",
       "      <td>44</td>\n",
       "      <td>1.0</td>\n",
       "      <td>1</td>\n",
       "      <td>0.0</td>\n",
       "      <td>0</td>\n",
       "      <td>0</td>\n",
       "      <td>0</td>\n",
       "      <td>210.0</td>\n",
       "      <td>19.16</td>\n",
       "      <td>86.0</td>\n",
       "      <td>0</td>\n",
       "    </tr>\n",
       "    <tr>\n",
       "      <td>4237</td>\n",
       "      <td>0</td>\n",
       "      <td>52</td>\n",
       "      <td>2.0</td>\n",
       "      <td>0</td>\n",
       "      <td>0.0</td>\n",
       "      <td>0</td>\n",
       "      <td>0</td>\n",
       "      <td>0</td>\n",
       "      <td>269.0</td>\n",
       "      <td>21.47</td>\n",
       "      <td>80.0</td>\n",
       "      <td>0</td>\n",
       "    </tr>\n",
       "    <tr>\n",
       "      <td>4238</td>\n",
       "      <td>1</td>\n",
       "      <td>40</td>\n",
       "      <td>3.0</td>\n",
       "      <td>0</td>\n",
       "      <td>0.0</td>\n",
       "      <td>0</td>\n",
       "      <td>1</td>\n",
       "      <td>0</td>\n",
       "      <td>185.0</td>\n",
       "      <td>25.60</td>\n",
       "      <td>67.0</td>\n",
       "      <td>0</td>\n",
       "    </tr>\n",
       "    <tr>\n",
       "      <td>4239</td>\n",
       "      <td>0</td>\n",
       "      <td>39</td>\n",
       "      <td>3.0</td>\n",
       "      <td>1</td>\n",
       "      <td>0.0</td>\n",
       "      <td>0</td>\n",
       "      <td>0</td>\n",
       "      <td>0</td>\n",
       "      <td>196.0</td>\n",
       "      <td>20.91</td>\n",
       "      <td>85.0</td>\n",
       "      <td>0</td>\n",
       "    </tr>\n",
       "  </tbody>\n",
       "</table>\n",
       "<p>4240 rows × 12 columns</p>\n",
       "</div>"
      ],
      "text/plain": [
       "      male  age  education  currentSmoker  BPMeds  prevalentStroke  \\\n",
       "0        1   39        4.0              0     0.0                0   \n",
       "1        0   46        2.0              0     0.0                0   \n",
       "2        1   48        1.0              1     0.0                0   \n",
       "3        0   61        3.0              1     0.0                0   \n",
       "4        0   46        3.0              1     0.0                0   \n",
       "...    ...  ...        ...            ...     ...              ...   \n",
       "4235     0   48        2.0              1     0.0                0   \n",
       "4236     0   44        1.0              1     0.0                0   \n",
       "4237     0   52        2.0              0     0.0                0   \n",
       "4238     1   40        3.0              0     0.0                0   \n",
       "4239     0   39        3.0              1     0.0                0   \n",
       "\n",
       "      prevalentHyp  diabetes  totChol    BMI  heartRate  TenYearCHD  \n",
       "0                0         0    195.0  26.97       80.0           0  \n",
       "1                0         0    250.0  28.73       95.0           0  \n",
       "2                0         0    245.0  25.34       75.0           0  \n",
       "3                1         0    225.0  28.58       65.0           1  \n",
       "4                0         0    285.0  23.10       85.0           0  \n",
       "...            ...       ...      ...    ...        ...         ...  \n",
       "4235             0         0    248.0  22.00       84.0           0  \n",
       "4236             0         0    210.0  19.16       86.0           0  \n",
       "4237             0         0    269.0  21.47       80.0           0  \n",
       "4238             1         0    185.0  25.60       67.0           0  \n",
       "4239             0         0    196.0  20.91       85.0           0  \n",
       "\n",
       "[4240 rows x 12 columns]"
      ]
     },
     "execution_count": 5,
     "metadata": {},
     "output_type": "execute_result"
    }
   ],
   "source": [
    "df"
   ]
  },
  {
   "cell_type": "code",
   "execution_count": 6,
   "metadata": {},
   "outputs": [
    {
     "data": {
      "text/plain": [
       "male               0\n",
       "age                0\n",
       "education          0\n",
       "currentSmoker      0\n",
       "BPMeds             0\n",
       "prevalentStroke    0\n",
       "prevalentHyp       0\n",
       "diabetes           0\n",
       "totChol            0\n",
       "BMI                0\n",
       "heartRate          0\n",
       "TenYearCHD         0\n",
       "dtype: int64"
      ]
     },
     "execution_count": 6,
     "metadata": {},
     "output_type": "execute_result"
    }
   ],
   "source": [
    "# finding the null values in dataset for framingham dataset\n",
    "df.isnull().sum()"
   ]
  },
  {
   "cell_type": "code",
   "execution_count": 5,
   "metadata": {},
   "outputs": [],
   "source": [
    "# filling the datset with missing values median\n",
    "df['education'] = df['education'].fillna(df['education'].median())\n",
    "df['cigsPerDay'] = df['cigsPerDay'].fillna(df['cigsPerDay'].median())\n",
    "df['BPMeds'] = df['BPMeds'].fillna(df['BPMeds'].median())\n",
    "df['totChol'] = df['totChol'].fillna(df['totChol'].median())\n",
    "df['BMI'] = df['BMI'].fillna(df['BMI'].median())\n",
    "df['heartRate'] = df['heartRate'].fillna(df['heartRate'].median())\n",
    "df['glucose'] = df['glucose'].fillna(df['glucose'].median())"
   ]
  },
  {
   "cell_type": "code",
   "execution_count": 7,
   "metadata": {},
   "outputs": [
    {
     "data": {
      "text/plain": [
       "male               0\n",
       "age                0\n",
       "education          0\n",
       "currentSmoker      0\n",
       "BPMeds             0\n",
       "prevalentStroke    0\n",
       "prevalentHyp       0\n",
       "diabetes           0\n",
       "totChol            0\n",
       "BMI                0\n",
       "heartRate          0\n",
       "TenYearCHD         0\n",
       "dtype: int64"
      ]
     },
     "execution_count": 7,
     "metadata": {},
     "output_type": "execute_result"
    }
   ],
   "source": [
    "df.isnull().sum()"
   ]
  },
  {
   "cell_type": "code",
   "execution_count": 7,
   "metadata": {},
   "outputs": [],
   "source": [
    "#converting all the datatypes into float\n",
    "df = df.astype(float)"
   ]
  },
  {
   "cell_type": "code",
   "execution_count": 8,
   "metadata": {},
   "outputs": [
    {
     "data": {
      "text/html": [
       "<div>\n",
       "<style scoped>\n",
       "    .dataframe tbody tr th:only-of-type {\n",
       "        vertical-align: middle;\n",
       "    }\n",
       "\n",
       "    .dataframe tbody tr th {\n",
       "        vertical-align: top;\n",
       "    }\n",
       "\n",
       "    .dataframe thead th {\n",
       "        text-align: right;\n",
       "    }\n",
       "</style>\n",
       "<table border=\"1\" class=\"dataframe\">\n",
       "  <thead>\n",
       "    <tr style=\"text-align: right;\">\n",
       "      <th></th>\n",
       "      <th>male</th>\n",
       "      <th>age</th>\n",
       "      <th>education</th>\n",
       "      <th>currentSmoker</th>\n",
       "      <th>BPMeds</th>\n",
       "      <th>prevalentStroke</th>\n",
       "      <th>prevalentHyp</th>\n",
       "      <th>diabetes</th>\n",
       "      <th>totChol</th>\n",
       "      <th>BMI</th>\n",
       "      <th>heartRate</th>\n",
       "      <th>TenYearCHD</th>\n",
       "    </tr>\n",
       "  </thead>\n",
       "  <tbody>\n",
       "    <tr>\n",
       "      <td>0</td>\n",
       "      <td>1.0</td>\n",
       "      <td>39.0</td>\n",
       "      <td>4.0</td>\n",
       "      <td>0.0</td>\n",
       "      <td>0.0</td>\n",
       "      <td>0.0</td>\n",
       "      <td>0.0</td>\n",
       "      <td>0.0</td>\n",
       "      <td>195.0</td>\n",
       "      <td>26.97</td>\n",
       "      <td>80.0</td>\n",
       "      <td>0.0</td>\n",
       "    </tr>\n",
       "    <tr>\n",
       "      <td>1</td>\n",
       "      <td>0.0</td>\n",
       "      <td>46.0</td>\n",
       "      <td>2.0</td>\n",
       "      <td>0.0</td>\n",
       "      <td>0.0</td>\n",
       "      <td>0.0</td>\n",
       "      <td>0.0</td>\n",
       "      <td>0.0</td>\n",
       "      <td>250.0</td>\n",
       "      <td>28.73</td>\n",
       "      <td>95.0</td>\n",
       "      <td>0.0</td>\n",
       "    </tr>\n",
       "    <tr>\n",
       "      <td>2</td>\n",
       "      <td>1.0</td>\n",
       "      <td>48.0</td>\n",
       "      <td>1.0</td>\n",
       "      <td>1.0</td>\n",
       "      <td>0.0</td>\n",
       "      <td>0.0</td>\n",
       "      <td>0.0</td>\n",
       "      <td>0.0</td>\n",
       "      <td>245.0</td>\n",
       "      <td>25.34</td>\n",
       "      <td>75.0</td>\n",
       "      <td>0.0</td>\n",
       "    </tr>\n",
       "    <tr>\n",
       "      <td>3</td>\n",
       "      <td>0.0</td>\n",
       "      <td>61.0</td>\n",
       "      <td>3.0</td>\n",
       "      <td>1.0</td>\n",
       "      <td>0.0</td>\n",
       "      <td>0.0</td>\n",
       "      <td>1.0</td>\n",
       "      <td>0.0</td>\n",
       "      <td>225.0</td>\n",
       "      <td>28.58</td>\n",
       "      <td>65.0</td>\n",
       "      <td>1.0</td>\n",
       "    </tr>\n",
       "    <tr>\n",
       "      <td>4</td>\n",
       "      <td>0.0</td>\n",
       "      <td>46.0</td>\n",
       "      <td>3.0</td>\n",
       "      <td>1.0</td>\n",
       "      <td>0.0</td>\n",
       "      <td>0.0</td>\n",
       "      <td>0.0</td>\n",
       "      <td>0.0</td>\n",
       "      <td>285.0</td>\n",
       "      <td>23.10</td>\n",
       "      <td>85.0</td>\n",
       "      <td>0.0</td>\n",
       "    </tr>\n",
       "    <tr>\n",
       "      <td>...</td>\n",
       "      <td>...</td>\n",
       "      <td>...</td>\n",
       "      <td>...</td>\n",
       "      <td>...</td>\n",
       "      <td>...</td>\n",
       "      <td>...</td>\n",
       "      <td>...</td>\n",
       "      <td>...</td>\n",
       "      <td>...</td>\n",
       "      <td>...</td>\n",
       "      <td>...</td>\n",
       "      <td>...</td>\n",
       "    </tr>\n",
       "    <tr>\n",
       "      <td>4235</td>\n",
       "      <td>0.0</td>\n",
       "      <td>48.0</td>\n",
       "      <td>2.0</td>\n",
       "      <td>1.0</td>\n",
       "      <td>0.0</td>\n",
       "      <td>0.0</td>\n",
       "      <td>0.0</td>\n",
       "      <td>0.0</td>\n",
       "      <td>248.0</td>\n",
       "      <td>22.00</td>\n",
       "      <td>84.0</td>\n",
       "      <td>0.0</td>\n",
       "    </tr>\n",
       "    <tr>\n",
       "      <td>4236</td>\n",
       "      <td>0.0</td>\n",
       "      <td>44.0</td>\n",
       "      <td>1.0</td>\n",
       "      <td>1.0</td>\n",
       "      <td>0.0</td>\n",
       "      <td>0.0</td>\n",
       "      <td>0.0</td>\n",
       "      <td>0.0</td>\n",
       "      <td>210.0</td>\n",
       "      <td>19.16</td>\n",
       "      <td>86.0</td>\n",
       "      <td>0.0</td>\n",
       "    </tr>\n",
       "    <tr>\n",
       "      <td>4237</td>\n",
       "      <td>0.0</td>\n",
       "      <td>52.0</td>\n",
       "      <td>2.0</td>\n",
       "      <td>0.0</td>\n",
       "      <td>0.0</td>\n",
       "      <td>0.0</td>\n",
       "      <td>0.0</td>\n",
       "      <td>0.0</td>\n",
       "      <td>269.0</td>\n",
       "      <td>21.47</td>\n",
       "      <td>80.0</td>\n",
       "      <td>0.0</td>\n",
       "    </tr>\n",
       "    <tr>\n",
       "      <td>4238</td>\n",
       "      <td>1.0</td>\n",
       "      <td>40.0</td>\n",
       "      <td>3.0</td>\n",
       "      <td>0.0</td>\n",
       "      <td>0.0</td>\n",
       "      <td>0.0</td>\n",
       "      <td>1.0</td>\n",
       "      <td>0.0</td>\n",
       "      <td>185.0</td>\n",
       "      <td>25.60</td>\n",
       "      <td>67.0</td>\n",
       "      <td>0.0</td>\n",
       "    </tr>\n",
       "    <tr>\n",
       "      <td>4239</td>\n",
       "      <td>0.0</td>\n",
       "      <td>39.0</td>\n",
       "      <td>3.0</td>\n",
       "      <td>1.0</td>\n",
       "      <td>0.0</td>\n",
       "      <td>0.0</td>\n",
       "      <td>0.0</td>\n",
       "      <td>0.0</td>\n",
       "      <td>196.0</td>\n",
       "      <td>20.91</td>\n",
       "      <td>85.0</td>\n",
       "      <td>0.0</td>\n",
       "    </tr>\n",
       "  </tbody>\n",
       "</table>\n",
       "<p>4240 rows × 12 columns</p>\n",
       "</div>"
      ],
      "text/plain": [
       "      male   age  education  currentSmoker  BPMeds  prevalentStroke  \\\n",
       "0      1.0  39.0        4.0            0.0     0.0              0.0   \n",
       "1      0.0  46.0        2.0            0.0     0.0              0.0   \n",
       "2      1.0  48.0        1.0            1.0     0.0              0.0   \n",
       "3      0.0  61.0        3.0            1.0     0.0              0.0   \n",
       "4      0.0  46.0        3.0            1.0     0.0              0.0   \n",
       "...    ...   ...        ...            ...     ...              ...   \n",
       "4235   0.0  48.0        2.0            1.0     0.0              0.0   \n",
       "4236   0.0  44.0        1.0            1.0     0.0              0.0   \n",
       "4237   0.0  52.0        2.0            0.0     0.0              0.0   \n",
       "4238   1.0  40.0        3.0            0.0     0.0              0.0   \n",
       "4239   0.0  39.0        3.0            1.0     0.0              0.0   \n",
       "\n",
       "      prevalentHyp  diabetes  totChol    BMI  heartRate  TenYearCHD  \n",
       "0              0.0       0.0    195.0  26.97       80.0         0.0  \n",
       "1              0.0       0.0    250.0  28.73       95.0         0.0  \n",
       "2              0.0       0.0    245.0  25.34       75.0         0.0  \n",
       "3              1.0       0.0    225.0  28.58       65.0         1.0  \n",
       "4              0.0       0.0    285.0  23.10       85.0         0.0  \n",
       "...            ...       ...      ...    ...        ...         ...  \n",
       "4235           0.0       0.0    248.0  22.00       84.0         0.0  \n",
       "4236           0.0       0.0    210.0  19.16       86.0         0.0  \n",
       "4237           0.0       0.0    269.0  21.47       80.0         0.0  \n",
       "4238           1.0       0.0    185.0  25.60       67.0         0.0  \n",
       "4239           0.0       0.0    196.0  20.91       85.0         0.0  \n",
       "\n",
       "[4240 rows x 12 columns]"
      ]
     },
     "execution_count": 8,
     "metadata": {},
     "output_type": "execute_result"
    }
   ],
   "source": [
    "df.round(3)"
   ]
  },
  {
   "cell_type": "code",
   "execution_count": 9,
   "metadata": {},
   "outputs": [
    {
     "name": "stderr",
     "output_type": "stream",
     "text": [
      "C:\\Users\\Praty\\Anaconda3\\lib\\site-packages\\pandas\\core\\indexing.py:1418: FutureWarning: \n",
      "Passing list-likes to .loc or [] with any missing label will raise\n",
      "KeyError in the future, you can use .reindex() as an alternative.\n",
      "\n",
      "See the documentation here:\n",
      "https://pandas.pydata.org/pandas-docs/stable/user_guide/indexing.html#deprecate-loc-reindex-listlike\n",
      "  return self._getitem_tuple(key)\n"
     ]
    }
   ],
   "source": [
    "X_FEATURES = ['male','age','education','currentSmoker','cigePerDay','BPMeds','prevalentStroke','prevalentHyp','diabetes','totChol','sysBP','diaBP'\n",
    "              ,'BMI','heartRate','glucose']\n",
    "x_features = df.loc[:,X_FEATURES].values.astype(int)\n",
    "y_features = df.loc[:,['TenYearCHD']].values.astype(int)"
   ]
  },
  {
   "cell_type": "code",
   "execution_count": 9,
   "metadata": {},
   "outputs": [],
   "source": [
    "X_FEATURES = ['male','age','education','currentSmoker','BPMeds','prevalentStroke','prevalentHyp','diabetes','totChol'\n",
    "              ,'BMI','heartRate']\n",
    "x_features = df.loc[:,X_FEATURES].values.astype(int)\n",
    "y_features = df.loc[:,['TenYearCHD']].values.astype(int)"
   ]
  },
  {
   "cell_type": "code",
   "execution_count": null,
   "metadata": {},
   "outputs": [],
   "source": [
    "X_FEATURES = ['gender','height','weight','ap_hi','ap_lo','cholesterol','gluc','smoke','alco','active']\n",
    "x_features = df.loc[:,X_FEATURES].values.astype(int)\n",
    "y_features = df.loc[:,['cardio']].values.astype(int)"
   ]
  },
  {
   "cell_type": "code",
   "execution_count": null,
   "metadata": {},
   "outputs": [],
   "source": [
    "X_FEATURES = ['age','sex','cp','trestbps','chol','fbs','restecg','thalach','exang','oldpeak','slope','ca']\n",
    "x_features = df.loc[:,X_FEATURES].values.astype(int)\n",
    "y_features = df.loc[:,['target']].values.astype(int)"
   ]
  },
  {
   "cell_type": "markdown",
   "metadata": {},
   "source": [
    "# RANDOM FOREST CLASSIFICATION"
   ]
  },
  {
   "cell_type": "code",
   "execution_count": 11,
   "metadata": {},
   "outputs": [],
   "source": [
    "def forest_train(x_features,y_features):\n",
    "    X_Train, X_Test, Y_Train, Y_Test = model_selection.train_test_split(x_features, y_features, test_size=0.20, random_state = 101)\n",
    "    Random_Forest = RandomForestClassifier(n_estimators = 100, max_depth = 6, min_samples_split = 2, random_state = 0).fit(X_Train,Y_Train)\n",
    "    Random_Forest.fit(X_Train, Y_Train)\n",
    "    predict_Forest = Random_Forest.predict(X_Test)\n",
    "    print(\" \",metrics.accuracy_score(Y_Test,predict_Forest))\n",
    "    print(confusion_matrix(Y_Test, predict_Forest))\n",
    "    print(classification_report(Y_Test, predict_Forest))\n",
    "    print(\"recall precision f1-score\")\n",
    "    print(precision_recall_fscore_support(Y_Test, predict_Forest, average='weighted'))"
   ]
  },
  {
   "cell_type": "code",
   "execution_count": 12,
   "metadata": {},
   "outputs": [
    {
     "name": "stderr",
     "output_type": "stream",
     "text": [
      "C:\\Users\\Praty\\Anaconda3\\lib\\site-packages\\ipykernel_launcher.py:3: DataConversionWarning: A column-vector y was passed when a 1d array was expected. Please change the shape of y to (n_samples,), for example using ravel().\n",
      "  This is separate from the ipykernel package so we can avoid doing imports until\n",
      "C:\\Users\\Praty\\Anaconda3\\lib\\site-packages\\ipykernel_launcher.py:4: DataConversionWarning: A column-vector y was passed when a 1d array was expected. Please change the shape of y to (n_samples,), for example using ravel().\n",
      "  after removing the cwd from sys.path.\n"
     ]
    },
    {
     "name": "stdout",
     "output_type": "stream",
     "text": [
      "  0.8691037735849056\n",
      "[[737   0]\n",
      " [111   0]]\n",
      "              precision    recall  f1-score   support\n",
      "\n",
      "           0       0.87      1.00      0.93       737\n",
      "           1       0.00      0.00      0.00       111\n",
      "\n",
      "    accuracy                           0.87       848\n",
      "   macro avg       0.43      0.50      0.46       848\n",
      "weighted avg       0.76      0.87      0.81       848\n",
      "\n",
      "recall precision f1-score\n",
      "(0.755341369259523, 0.8691037735849056, 0.8082390929111362, None)\n"
     ]
    },
    {
     "name": "stderr",
     "output_type": "stream",
     "text": [
      "C:\\Users\\Praty\\Anaconda3\\lib\\site-packages\\sklearn\\metrics\\classification.py:1437: UndefinedMetricWarning: Precision and F-score are ill-defined and being set to 0.0 in labels with no predicted samples.\n",
      "  'precision', 'predicted', average, warn_for)\n"
     ]
    }
   ],
   "source": [
    "forest_train(x_features,y_features)"
   ]
  },
  {
   "cell_type": "code",
   "execution_count": 13,
   "metadata": {},
   "outputs": [
    {
     "name": "stderr",
     "output_type": "stream",
     "text": [
      "C:\\Users\\Praty\\Anaconda3\\lib\\site-packages\\ipykernel_launcher.py:3: DataConversionWarning: A column-vector y was passed when a 1d array was expected. Please change the shape of y to (n_samples,), for example using ravel().\n",
      "  This is separate from the ipykernel package so we can avoid doing imports until\n",
      "C:\\Users\\Praty\\Anaconda3\\lib\\site-packages\\ipykernel_launcher.py:4: DataConversionWarning: A column-vector y was passed when a 1d array was expected. Please change the shape of y to (n_samples,), for example using ravel().\n",
      "  after removing the cwd from sys.path.\n"
     ]
    },
    {
     "name": "stdout",
     "output_type": "stream",
     "text": [
      "  0.8667452830188679\n",
      "[[735   2]\n",
      " [111   0]]\n",
      "              precision    recall  f1-score   support\n",
      "\n",
      "           0       0.87      1.00      0.93       737\n",
      "           1       0.00      0.00      0.00       111\n",
      "\n",
      "    accuracy                           0.87       848\n",
      "   macro avg       0.43      0.50      0.46       848\n",
      "weighted avg       0.76      0.87      0.81       848\n",
      "\n",
      "recall precision f1-score\n",
      "(0.7550724274053258, 0.8667452830188679, 0.8070641485595778, None)\n"
     ]
    }
   ],
   "source": [
    "#ICA\n",
    "ica = FastICA(n_components = 2)\n",
    "X_ica = ica.fit_transform(x_features)\n",
    "forest_train(X_ica,y_features)"
   ]
  },
  {
   "cell_type": "code",
   "execution_count": 14,
   "metadata": {},
   "outputs": [
    {
     "name": "stdout",
     "output_type": "stream",
     "text": [
      "[1971.61509236  143.5636573    68.46249996]\n"
     ]
    },
    {
     "name": "stderr",
     "output_type": "stream",
     "text": [
      "C:\\Users\\Praty\\Anaconda3\\lib\\site-packages\\ipykernel_launcher.py:3: DataConversionWarning: A column-vector y was passed when a 1d array was expected. Please change the shape of y to (n_samples,), for example using ravel().\n",
      "  This is separate from the ipykernel package so we can avoid doing imports until\n",
      "C:\\Users\\Praty\\Anaconda3\\lib\\site-packages\\ipykernel_launcher.py:4: DataConversionWarning: A column-vector y was passed when a 1d array was expected. Please change the shape of y to (n_samples,), for example using ravel().\n",
      "  after removing the cwd from sys.path.\n"
     ]
    },
    {
     "name": "stdout",
     "output_type": "stream",
     "text": [
      "  0.8691037735849056\n",
      "[[737   0]\n",
      " [111   0]]\n",
      "              precision    recall  f1-score   support\n",
      "\n",
      "           0       0.87      1.00      0.93       737\n",
      "           1       0.00      0.00      0.00       111\n",
      "\n",
      "    accuracy                           0.87       848\n",
      "   macro avg       0.43      0.50      0.46       848\n",
      "weighted avg       0.76      0.87      0.81       848\n",
      "\n",
      "recall precision f1-score\n",
      "(0.755341369259523, 0.8691037735849056, 0.8082390929111362, None)\n"
     ]
    },
    {
     "name": "stderr",
     "output_type": "stream",
     "text": [
      "C:\\Users\\Praty\\Anaconda3\\lib\\site-packages\\sklearn\\metrics\\classification.py:1437: UndefinedMetricWarning: Precision and F-score are ill-defined and being set to 0.0 in labels with no predicted samples.\n",
      "  'precision', 'predicted', average, warn_for)\n"
     ]
    }
   ],
   "source": [
    "#PCA\n",
    "pca = PCA(n_components = 3, svd_solver = 'full')\n",
    "X_pca = pca.fit_transform(x_features)\n",
    "print(pca.explained_variance_)\n",
    "forest_train(X_pca, y_features)"
   ]
  },
  {
   "cell_type": "code",
   "execution_count": 15,
   "metadata": {},
   "outputs": [
    {
     "name": "stdout",
     "output_type": "stream",
     "text": [
      "Original number of features: 11\n",
      "Reduced number of features: 1\n"
     ]
    },
    {
     "name": "stderr",
     "output_type": "stream",
     "text": [
      "C:\\Users\\Praty\\Anaconda3\\lib\\site-packages\\sklearn\\utils\\validation.py:724: DataConversionWarning: A column-vector y was passed when a 1d array was expected. Please change the shape of y to (n_samples, ), for example using ravel().\n",
      "  y = column_or_1d(y, warn=True)\n"
     ]
    }
   ],
   "source": [
    "#LDA\n",
    "lda = LinearDiscriminantAnalysis(n_components = 1)\n",
    "x_lda = lda.fit(x_features, y_features).transform(x_features)\n",
    "print('Original number of features:', x_features.shape[1])\n",
    "print('Reduced number of features:', x_lda.shape[1])"
   ]
  },
  {
   "cell_type": "code",
   "execution_count": 16,
   "metadata": {},
   "outputs": [
    {
     "name": "stderr",
     "output_type": "stream",
     "text": [
      "C:\\Users\\Praty\\Anaconda3\\lib\\site-packages\\ipykernel_launcher.py:3: DataConversionWarning: A column-vector y was passed when a 1d array was expected. Please change the shape of y to (n_samples,), for example using ravel().\n",
      "  This is separate from the ipykernel package so we can avoid doing imports until\n",
      "C:\\Users\\Praty\\Anaconda3\\lib\\site-packages\\ipykernel_launcher.py:4: DataConversionWarning: A column-vector y was passed when a 1d array was expected. Please change the shape of y to (n_samples,), for example using ravel().\n",
      "  after removing the cwd from sys.path.\n"
     ]
    },
    {
     "name": "stdout",
     "output_type": "stream",
     "text": [
      "  0.8667452830188679\n",
      "[[735   2]\n",
      " [111   0]]\n",
      "              precision    recall  f1-score   support\n",
      "\n",
      "           0       0.87      1.00      0.93       737\n",
      "           1       0.00      0.00      0.00       111\n",
      "\n",
      "    accuracy                           0.87       848\n",
      "   macro avg       0.43      0.50      0.46       848\n",
      "weighted avg       0.76      0.87      0.81       848\n",
      "\n",
      "recall precision f1-score\n",
      "(0.7550724274053258, 0.8667452830188679, 0.8070641485595778, None)\n"
     ]
    }
   ],
   "source": [
    "forest_train(x_lda, y_features)"
   ]
  },
  {
   "cell_type": "code",
   "execution_count": null,
   "metadata": {},
   "outputs": [],
   "source": [
    "ICA_df = pd.DataFrame(data = X_ica, columns = ['IC1', 'IC2'])\n",
    "ICA_df = pd.concat([ICA_df, df['TenYearCHD']], axis = 1)\n",
    "ICA_df['TenYearCHD'] = LabelEncoder().fit_transform(ICA_df['TenYearCHD'])\n",
    "ICA_df.head()"
   ]
  },
  {
   "cell_type": "markdown",
   "metadata": {},
   "source": [
    "# SUPPORT VECTOR MACHINE"
   ]
  },
  {
   "cell_type": "code",
   "execution_count": 33,
   "metadata": {},
   "outputs": [],
   "source": [
    "def SVM_train(x_features,y_features):\n",
    "    X_Train, X_Test, Y_Train, Y_Test = model_selection.train_test_split(x_features, y_features, test_size=0.20, random_state = 101)\n",
    "    SVM_MODEL = svm.SVC(kernel = 'linear', C = 1, degree = 3, gamma = 'auto').fit(X_Train,Y_Train)\n",
    "    SVM_MODEL.fit(X_Train, Y_Train)\n",
    "    predict_SVM = SVM_MODEL.predict(X_Test)\n",
    "    print(\" \",metrics.accuracy_score(Y_Test,predict_SVM))\n",
    "    print(confusion_matrix(Y_Test, predict_SVM))\n",
    "    print(classification_report(Y_Test, predict_SVM))\n",
    "    print(precision_recall_fscore_support(Y_Test, predict_SVM, average='weighted'))"
   ]
  },
  {
   "cell_type": "code",
   "execution_count": 34,
   "metadata": {},
   "outputs": [
    {
     "name": "stderr",
     "output_type": "stream",
     "text": [
      "C:\\Users\\Praty\\Anaconda3\\lib\\site-packages\\sklearn\\utils\\validation.py:724: DataConversionWarning: A column-vector y was passed when a 1d array was expected. Please change the shape of y to (n_samples, ), for example using ravel().\n",
      "  y = column_or_1d(y, warn=True)\n",
      "C:\\Users\\Praty\\Anaconda3\\lib\\site-packages\\sklearn\\utils\\validation.py:724: DataConversionWarning: A column-vector y was passed when a 1d array was expected. Please change the shape of y to (n_samples, ), for example using ravel().\n",
      "  y = column_or_1d(y, warn=True)\n"
     ]
    },
    {
     "name": "stdout",
     "output_type": "stream",
     "text": [
      "  0.8691037735849056\n",
      "[[737   0]\n",
      " [111   0]]\n",
      "              precision    recall  f1-score   support\n",
      "\n",
      "           0       0.87      1.00      0.93       737\n",
      "           1       0.00      0.00      0.00       111\n",
      "\n",
      "    accuracy                           0.87       848\n",
      "   macro avg       0.43      0.50      0.46       848\n",
      "weighted avg       0.76      0.87      0.81       848\n",
      "\n",
      "(0.755341369259523, 0.8691037735849056, 0.8082390929111362, None)\n"
     ]
    },
    {
     "name": "stderr",
     "output_type": "stream",
     "text": [
      "C:\\Users\\Praty\\Anaconda3\\lib\\site-packages\\sklearn\\metrics\\classification.py:1437: UndefinedMetricWarning: Precision and F-score are ill-defined and being set to 0.0 in labels with no predicted samples.\n",
      "  'precision', 'predicted', average, warn_for)\n"
     ]
    }
   ],
   "source": [
    "SVM_train(x_features,y_features)"
   ]
  },
  {
   "cell_type": "code",
   "execution_count": 19,
   "metadata": {},
   "outputs": [
    {
     "name": "stdout",
     "output_type": "stream",
     "text": [
      "  0.8691037735849056\n",
      "[[737   0]\n",
      " [111   0]]\n",
      "              precision    recall  f1-score   support\n",
      "\n",
      "           0       0.87      1.00      0.93       737\n",
      "           1       0.00      0.00      0.00       111\n",
      "\n",
      "    accuracy                           0.87       848\n",
      "   macro avg       0.43      0.50      0.46       848\n",
      "weighted avg       0.76      0.87      0.81       848\n",
      "\n",
      "(0.755341369259523, 0.8691037735849056, 0.8082390929111362, None)\n"
     ]
    },
    {
     "name": "stderr",
     "output_type": "stream",
     "text": [
      "C:\\Users\\Praty\\Anaconda3\\lib\\site-packages\\sklearn\\utils\\validation.py:724: DataConversionWarning: A column-vector y was passed when a 1d array was expected. Please change the shape of y to (n_samples, ), for example using ravel().\n",
      "  y = column_or_1d(y, warn=True)\n",
      "C:\\Users\\Praty\\Anaconda3\\lib\\site-packages\\sklearn\\utils\\validation.py:724: DataConversionWarning: A column-vector y was passed when a 1d array was expected. Please change the shape of y to (n_samples, ), for example using ravel().\n",
      "  y = column_or_1d(y, warn=True)\n",
      "C:\\Users\\Praty\\Anaconda3\\lib\\site-packages\\sklearn\\metrics\\classification.py:1437: UndefinedMetricWarning: Precision and F-score are ill-defined and being set to 0.0 in labels with no predicted samples.\n",
      "  'precision', 'predicted', average, warn_for)\n"
     ]
    }
   ],
   "source": [
    "ica = FastICA(n_components = 3)\n",
    "X1_ica = ica.fit_transform(x_features)\n",
    "SVM_train(X1_ica,y_features)"
   ]
  },
  {
   "cell_type": "code",
   "execution_count": null,
   "metadata": {},
   "outputs": [
    {
     "name": "stdout",
     "output_type": "stream",
     "text": [
      "[1971.61509236  143.5636573    68.46249996]\n"
     ]
    },
    {
     "name": "stderr",
     "output_type": "stream",
     "text": [
      "C:\\Users\\Praty\\Anaconda3\\lib\\site-packages\\sklearn\\utils\\validation.py:724: DataConversionWarning: A column-vector y was passed when a 1d array was expected. Please change the shape of y to (n_samples, ), for example using ravel().\n",
      "  y = column_or_1d(y, warn=True)\n",
      "C:\\Users\\Praty\\Anaconda3\\lib\\site-packages\\sklearn\\utils\\validation.py:724: DataConversionWarning: A column-vector y was passed when a 1d array was expected. Please change the shape of y to (n_samples, ), for example using ravel().\n",
      "  y = column_or_1d(y, warn=True)\n"
     ]
    }
   ],
   "source": [
    "pca = PCA(n_components = 3, svd_solver = 'full')\n",
    "X1_pca = pca.fit_transform(x_features)\n",
    "print(pca.explained_variance_)\n",
    "SVM_train(X1_pca, y_features)"
   ]
  },
  {
   "cell_type": "code",
   "execution_count": 35,
   "metadata": {},
   "outputs": [
    {
     "name": "stdout",
     "output_type": "stream",
     "text": [
      "Original number of features: 11\n",
      "Reduced number of features: 1\n",
      "  0.8691037735849056\n",
      "[[737   0]\n",
      " [111   0]]\n",
      "              precision    recall  f1-score   support\n",
      "\n",
      "           0       0.87      1.00      0.93       737\n",
      "           1       0.00      0.00      0.00       111\n",
      "\n",
      "    accuracy                           0.87       848\n",
      "   macro avg       0.43      0.50      0.46       848\n",
      "weighted avg       0.76      0.87      0.81       848\n",
      "\n",
      "(0.755341369259523, 0.8691037735849056, 0.8082390929111362, None)\n"
     ]
    },
    {
     "name": "stderr",
     "output_type": "stream",
     "text": [
      "C:\\Users\\Praty\\Anaconda3\\lib\\site-packages\\sklearn\\utils\\validation.py:724: DataConversionWarning: A column-vector y was passed when a 1d array was expected. Please change the shape of y to (n_samples, ), for example using ravel().\n",
      "  y = column_or_1d(y, warn=True)\n",
      "C:\\Users\\Praty\\Anaconda3\\lib\\site-packages\\sklearn\\utils\\validation.py:724: DataConversionWarning: A column-vector y was passed when a 1d array was expected. Please change the shape of y to (n_samples, ), for example using ravel().\n",
      "  y = column_or_1d(y, warn=True)\n",
      "C:\\Users\\Praty\\Anaconda3\\lib\\site-packages\\sklearn\\utils\\validation.py:724: DataConversionWarning: A column-vector y was passed when a 1d array was expected. Please change the shape of y to (n_samples, ), for example using ravel().\n",
      "  y = column_or_1d(y, warn=True)\n",
      "C:\\Users\\Praty\\Anaconda3\\lib\\site-packages\\sklearn\\metrics\\classification.py:1437: UndefinedMetricWarning: Precision and F-score are ill-defined and being set to 0.0 in labels with no predicted samples.\n",
      "  'precision', 'predicted', average, warn_for)\n"
     ]
    }
   ],
   "source": [
    "#LDA\n",
    "lda = LinearDiscriminantAnalysis(n_components = 1)\n",
    "x1_lda = lda.fit(x_features, y_features).transform(x_features)\n",
    "print('Original number of features:', x_features.shape[1])\n",
    "print('Reduced number of features:', x1_lda.shape[1])\n",
    "SVM_train(x1_lda, y_features)"
   ]
  },
  {
   "cell_type": "markdown",
   "metadata": {},
   "source": [
    "# DECISION TREE CLASSIFER"
   ]
  },
  {
   "cell_type": "code",
   "execution_count": 10,
   "metadata": {},
   "outputs": [],
   "source": [
    "def DT_train(x_features,y_features):\n",
    "    X_Train, X_Test, Y_Train, Y_Test = model_selection.train_test_split(x_features, y_features, test_size=0.20, random_state = 101)\n",
    "    Decision_Tree_Classifier = DecisionTreeClassifier( max_depth=6, min_samples_split=2,random_state=0).fit(X_Train,Y_Train)\n",
    "    Decision_Tree_Classifier.fit(X_Train, Y_Train)\n",
    "    predict_DT = Decision_Tree_Classifier.predict(X_Test)\n",
    "    print(\" \",metrics.accuracy_score(Y_Test,predict_DT))\n",
    "    print(confusion_matrix(Y_Test, predict_DT))\n",
    "    print(classification_report(Y_Test, predict_DT))\n",
    "    print(precision_recall_fscore_support(Y_Test, predict_DT, average='weighted'))"
   ]
  },
  {
   "cell_type": "code",
   "execution_count": 11,
   "metadata": {},
   "outputs": [
    {
     "name": "stdout",
     "output_type": "stream",
     "text": [
      "  0.8537735849056604\n",
      "[[720  17]\n",
      " [107   4]]\n",
      "              precision    recall  f1-score   support\n",
      "\n",
      "           0       0.87      0.98      0.92       737\n",
      "           1       0.19      0.04      0.06       111\n",
      "\n",
      "    accuracy                           0.85       848\n",
      "   macro avg       0.53      0.51      0.49       848\n",
      "weighted avg       0.78      0.85      0.81       848\n",
      "\n",
      "(0.7815888624163589, 0.8537735849056604, 0.808130952433177, None)\n"
     ]
    }
   ],
   "source": [
    "DT_train(x_features,y_features)"
   ]
  },
  {
   "cell_type": "code",
   "execution_count": 12,
   "metadata": {},
   "outputs": [
    {
     "name": "stdout",
     "output_type": "stream",
     "text": [
      "  0.8632075471698113\n",
      "[[728   9]\n",
      " [107   4]]\n",
      "              precision    recall  f1-score   support\n",
      "\n",
      "           0       0.87      0.99      0.93       737\n",
      "           1       0.31      0.04      0.06       111\n",
      "\n",
      "    accuracy                           0.86       848\n",
      "   macro avg       0.59      0.51      0.50       848\n",
      "weighted avg       0.80      0.86      0.81       848\n",
      "\n",
      "(0.798009351398799, 0.8632075471698113, 0.813416351891516, None)\n"
     ]
    }
   ],
   "source": [
    "ica = FastICA(n_components = 3)\n",
    "X2_ica = ica.fit_transform(x_features)\n",
    "DT_train(X2_ica,y_features)"
   ]
  },
  {
   "cell_type": "code",
   "execution_count": 13,
   "metadata": {},
   "outputs": [
    {
     "name": "stdout",
     "output_type": "stream",
     "text": [
      "[1971.61509236  143.5636573    68.46249996]\n",
      "  0.8632075471698113\n",
      "[[730   7]\n",
      " [109   2]]\n",
      "              precision    recall  f1-score   support\n",
      "\n",
      "           0       0.87      0.99      0.93       737\n",
      "           1       0.22      0.02      0.03       111\n",
      "\n",
      "    accuracy                           0.86       848\n",
      "   macro avg       0.55      0.50      0.48       848\n",
      "weighted avg       0.79      0.86      0.81       848\n",
      "\n",
      "(0.7852808449711771, 0.8632075471698113, 0.8094974140408008, None)\n"
     ]
    }
   ],
   "source": [
    "pca = PCA(n_components = 3, svd_solver = 'full')\n",
    "X2_pca = pca.fit_transform(x_features)\n",
    "print(pca.explained_variance_)\n",
    "DT_train(X2_pca, y_features)"
   ]
  },
  {
   "cell_type": "code",
   "execution_count": 14,
   "metadata": {},
   "outputs": [
    {
     "name": "stdout",
     "output_type": "stream",
     "text": [
      "Original number of features: 11\n",
      "Reduced number of features: 1\n",
      "  0.8596698113207547\n",
      "[[729   8]\n",
      " [111   0]]\n",
      "              precision    recall  f1-score   support\n",
      "\n",
      "           0       0.87      0.99      0.92       737\n",
      "           1       0.00      0.00      0.00       111\n",
      "\n",
      "    accuracy                           0.86       848\n",
      "   macro avg       0.43      0.49      0.46       848\n",
      "weighted avg       0.75      0.86      0.80       848\n",
      "\n",
      "(0.7542579177897574, 0.8596698113207547, 0.8035214342972685, None)\n"
     ]
    },
    {
     "name": "stderr",
     "output_type": "stream",
     "text": [
      "C:\\Users\\Praty\\Anaconda3\\lib\\site-packages\\sklearn\\utils\\validation.py:724: DataConversionWarning: A column-vector y was passed when a 1d array was expected. Please change the shape of y to (n_samples, ), for example using ravel().\n",
      "  y = column_or_1d(y, warn=True)\n"
     ]
    }
   ],
   "source": [
    "#LDA\n",
    "lda = LinearDiscriminantAnalysis(n_components = 1)\n",
    "x2_lda = lda.fit(x_features, y_features).transform(x_features)\n",
    "print('Original number of features:', x_features.shape[1])\n",
    "print('Reduced number of features:', x2_lda.shape[1])\n",
    "DT_train(x2_lda, y_features)"
   ]
  },
  {
   "cell_type": "markdown",
   "metadata": {},
   "source": [
    "# EXTRA TREE CLASSIFIER"
   ]
  },
  {
   "cell_type": "code",
   "execution_count": 15,
   "metadata": {},
   "outputs": [],
   "source": [
    "def ET_train(x_features,y_features):\n",
    "    X_Train, X_Test, Y_Train, Y_Test = model_selection.train_test_split(x_features, y_features, test_size=0.20, random_state = 101)\n",
    "    Extra_Tree_Classifier = ExtraTreesClassifier(n_estimators = 100, max_depth=6, min_samples_split=2,random_state=0).fit(X_Train,Y_Train)\n",
    "    Extra_Tree_Classifier.fit(X_Train, Y_Train)\n",
    "    predict_ET = Extra_Tree_Classifier.predict(X_Test)\n",
    "    print(\" \",metrics.accuracy_score(Y_Test,predict_ET))\n",
    "    print(confusion_matrix(Y_Test, predict_ET))\n",
    "    print(classification_report(Y_Test, predict_ET))\n",
    "    print(precision_recall_fscore_support(Y_Test, predict_ET, average='weighted'))"
   ]
  },
  {
   "cell_type": "code",
   "execution_count": 16,
   "metadata": {},
   "outputs": [
    {
     "name": "stderr",
     "output_type": "stream",
     "text": [
      "C:\\Users\\Praty\\Anaconda3\\lib\\site-packages\\ipykernel_launcher.py:3: DataConversionWarning: A column-vector y was passed when a 1d array was expected. Please change the shape of y to (n_samples,), for example using ravel().\n",
      "  This is separate from the ipykernel package so we can avoid doing imports until\n",
      "C:\\Users\\Praty\\Anaconda3\\lib\\site-packages\\ipykernel_launcher.py:4: DataConversionWarning: A column-vector y was passed when a 1d array was expected. Please change the shape of y to (n_samples,), for example using ravel().\n",
      "  after removing the cwd from sys.path.\n"
     ]
    },
    {
     "name": "stdout",
     "output_type": "stream",
     "text": [
      "  0.8691037735849056\n",
      "[[736   1]\n",
      " [110   1]]\n",
      "              precision    recall  f1-score   support\n",
      "\n",
      "           0       0.87      1.00      0.93       737\n",
      "           1       0.50      0.01      0.02       111\n",
      "\n",
      "    accuracy                           0.87       848\n",
      "   macro avg       0.68      0.50      0.47       848\n",
      "weighted avg       0.82      0.87      0.81       848\n",
      "\n",
      "(0.8215478500379143, 0.8691037735849056, 0.8104789423903815, None)\n"
     ]
    }
   ],
   "source": [
    "ET_train(x_features,y_features)"
   ]
  },
  {
   "cell_type": "code",
   "execution_count": 17,
   "metadata": {},
   "outputs": [
    {
     "name": "stderr",
     "output_type": "stream",
     "text": [
      "C:\\Users\\Praty\\Anaconda3\\lib\\site-packages\\ipykernel_launcher.py:3: DataConversionWarning: A column-vector y was passed when a 1d array was expected. Please change the shape of y to (n_samples,), for example using ravel().\n",
      "  This is separate from the ipykernel package so we can avoid doing imports until\n",
      "C:\\Users\\Praty\\Anaconda3\\lib\\site-packages\\ipykernel_launcher.py:4: DataConversionWarning: A column-vector y was passed when a 1d array was expected. Please change the shape of y to (n_samples,), for example using ravel().\n",
      "  after removing the cwd from sys.path.\n"
     ]
    },
    {
     "name": "stdout",
     "output_type": "stream",
     "text": [
      "  0.8691037735849056\n",
      "[[737   0]\n",
      " [111   0]]\n",
      "              precision    recall  f1-score   support\n",
      "\n",
      "           0       0.87      1.00      0.93       737\n",
      "           1       0.00      0.00      0.00       111\n",
      "\n",
      "    accuracy                           0.87       848\n",
      "   macro avg       0.43      0.50      0.46       848\n",
      "weighted avg       0.76      0.87      0.81       848\n",
      "\n",
      "(0.755341369259523, 0.8691037735849056, 0.8082390929111362, None)\n"
     ]
    },
    {
     "name": "stderr",
     "output_type": "stream",
     "text": [
      "C:\\Users\\Praty\\Anaconda3\\lib\\site-packages\\sklearn\\metrics\\classification.py:1437: UndefinedMetricWarning: Precision and F-score are ill-defined and being set to 0.0 in labels with no predicted samples.\n",
      "  'precision', 'predicted', average, warn_for)\n"
     ]
    }
   ],
   "source": [
    "ica = FastICA(n_components = 3)\n",
    "X3_ica = ica.fit_transform(x_features)\n",
    "ET_train(X3_ica,y_features)"
   ]
  },
  {
   "cell_type": "code",
   "execution_count": 18,
   "metadata": {},
   "outputs": [
    {
     "name": "stdout",
     "output_type": "stream",
     "text": [
      "[1971.61509236  143.5636573    68.46249996]\n"
     ]
    },
    {
     "name": "stderr",
     "output_type": "stream",
     "text": [
      "C:\\Users\\Praty\\Anaconda3\\lib\\site-packages\\ipykernel_launcher.py:3: DataConversionWarning: A column-vector y was passed when a 1d array was expected. Please change the shape of y to (n_samples,), for example using ravel().\n",
      "  This is separate from the ipykernel package so we can avoid doing imports until\n",
      "C:\\Users\\Praty\\Anaconda3\\lib\\site-packages\\ipykernel_launcher.py:4: DataConversionWarning: A column-vector y was passed when a 1d array was expected. Please change the shape of y to (n_samples,), for example using ravel().\n",
      "  after removing the cwd from sys.path.\n"
     ]
    },
    {
     "name": "stdout",
     "output_type": "stream",
     "text": [
      "  0.8691037735849056\n",
      "[[737   0]\n",
      " [111   0]]\n",
      "              precision    recall  f1-score   support\n",
      "\n",
      "           0       0.87      1.00      0.93       737\n",
      "           1       0.00      0.00      0.00       111\n",
      "\n",
      "    accuracy                           0.87       848\n",
      "   macro avg       0.43      0.50      0.46       848\n",
      "weighted avg       0.76      0.87      0.81       848\n",
      "\n",
      "(0.755341369259523, 0.8691037735849056, 0.8082390929111362, None)\n"
     ]
    },
    {
     "name": "stderr",
     "output_type": "stream",
     "text": [
      "C:\\Users\\Praty\\Anaconda3\\lib\\site-packages\\sklearn\\metrics\\classification.py:1437: UndefinedMetricWarning: Precision and F-score are ill-defined and being set to 0.0 in labels with no predicted samples.\n",
      "  'precision', 'predicted', average, warn_for)\n"
     ]
    }
   ],
   "source": [
    "pca = PCA(n_components = 3, svd_solver = 'full')\n",
    "X3_pca = pca.fit_transform(x_features)\n",
    "print(pca.explained_variance_)\n",
    "ET_train(X3_pca, y_features)"
   ]
  },
  {
   "cell_type": "code",
   "execution_count": 19,
   "metadata": {},
   "outputs": [
    {
     "name": "stderr",
     "output_type": "stream",
     "text": [
      "C:\\Users\\Praty\\Anaconda3\\lib\\site-packages\\sklearn\\utils\\validation.py:724: DataConversionWarning: A column-vector y was passed when a 1d array was expected. Please change the shape of y to (n_samples, ), for example using ravel().\n",
      "  y = column_or_1d(y, warn=True)\n",
      "C:\\Users\\Praty\\Anaconda3\\lib\\site-packages\\ipykernel_launcher.py:3: DataConversionWarning: A column-vector y was passed when a 1d array was expected. Please change the shape of y to (n_samples,), for example using ravel().\n",
      "  This is separate from the ipykernel package so we can avoid doing imports until\n",
      "C:\\Users\\Praty\\Anaconda3\\lib\\site-packages\\ipykernel_launcher.py:4: DataConversionWarning: A column-vector y was passed when a 1d array was expected. Please change the shape of y to (n_samples,), for example using ravel().\n",
      "  after removing the cwd from sys.path.\n"
     ]
    },
    {
     "name": "stdout",
     "output_type": "stream",
     "text": [
      "Original number of features: 11\n",
      "Reduced number of features: 1\n",
      "  0.8667452830188679\n",
      "[[735   2]\n",
      " [111   0]]\n",
      "              precision    recall  f1-score   support\n",
      "\n",
      "           0       0.87      1.00      0.93       737\n",
      "           1       0.00      0.00      0.00       111\n",
      "\n",
      "    accuracy                           0.87       848\n",
      "   macro avg       0.43      0.50      0.46       848\n",
      "weighted avg       0.76      0.87      0.81       848\n",
      "\n",
      "(0.7550724274053258, 0.8667452830188679, 0.8070641485595778, None)\n"
     ]
    }
   ],
   "source": [
    "#LDA\n",
    "lda = LinearDiscriminantAnalysis(n_components = 1)\n",
    "x3_lda = lda.fit(x_features, y_features).transform(x_features)\n",
    "print('Original number of features:', x_features.shape[1])\n",
    "print('Reduced number of features:', x3_lda.shape[1])\n",
    "ET_train(x3_lda, y_features)"
   ]
  },
  {
   "cell_type": "markdown",
   "metadata": {},
   "source": [
    "# XGBOOST"
   ]
  },
  {
   "cell_type": "code",
   "execution_count": 20,
   "metadata": {},
   "outputs": [],
   "source": [
    "import xgboost as xgb"
   ]
  },
  {
   "cell_type": "code",
   "execution_count": 21,
   "metadata": {},
   "outputs": [],
   "source": [
    "def XG_train(x_features,y_features):\n",
    "    X_Train, X_Test, Y_Train, Y_Test = model_selection.train_test_split(x_features, y_features, test_size=0.20, random_state = 101)\n",
    "    XGBOOST_Classifier = xgb.XGBClassifier(random_state=0, learning_rate = 0.01).fit(X_Train,Y_Train)\n",
    "    XGBOOST_Classifier.fit(X_Train, Y_Train)\n",
    "    predict_XG = XGBOOST_Classifier.predict(X_Test)\n",
    "    print(\" \",metrics.accuracy_score(Y_Test,predict_XG))\n",
    "    print(confusion_matrix(Y_Test, predict_XG))\n",
    "    print(classification_report(Y_Test, predict_XG))\n",
    "    print(precision_recall_fscore_support(Y_Test, predict_XG, average='weighted'))"
   ]
  },
  {
   "cell_type": "code",
   "execution_count": 22,
   "metadata": {},
   "outputs": [
    {
     "name": "stderr",
     "output_type": "stream",
     "text": [
      "C:\\Users\\Praty\\Anaconda3\\lib\\site-packages\\sklearn\\preprocessing\\label.py:219: DataConversionWarning: A column-vector y was passed when a 1d array was expected. Please change the shape of y to (n_samples, ), for example using ravel().\n",
      "  y = column_or_1d(y, warn=True)\n",
      "C:\\Users\\Praty\\Anaconda3\\lib\\site-packages\\sklearn\\preprocessing\\label.py:252: DataConversionWarning: A column-vector y was passed when a 1d array was expected. Please change the shape of y to (n_samples, ), for example using ravel().\n",
      "  y = column_or_1d(y, warn=True)\n"
     ]
    },
    {
     "name": "stdout",
     "output_type": "stream",
     "text": [
      "  0.8584905660377359\n",
      "[[726  11]\n",
      " [109   2]]\n",
      "              precision    recall  f1-score   support\n",
      "\n",
      "           0       0.87      0.99      0.92       737\n",
      "           1       0.15      0.02      0.03       111\n",
      "\n",
      "    accuracy                           0.86       848\n",
      "   macro avg       0.51      0.50      0.48       848\n",
      "weighted avg       0.78      0.86      0.81       848\n",
      "\n",
      "(0.775789784726628, 0.8584905660377359, 0.8069824329912234, None)\n"
     ]
    }
   ],
   "source": [
    "XG_train(x_features, y_features)"
   ]
  },
  {
   "cell_type": "code",
   "execution_count": 25,
   "metadata": {},
   "outputs": [
    {
     "name": "stderr",
     "output_type": "stream",
     "text": [
      "C:\\Users\\Praty\\Anaconda3\\lib\\site-packages\\sklearn\\preprocessing\\label.py:219: DataConversionWarning: A column-vector y was passed when a 1d array was expected. Please change the shape of y to (n_samples, ), for example using ravel().\n",
      "  y = column_or_1d(y, warn=True)\n",
      "C:\\Users\\Praty\\Anaconda3\\lib\\site-packages\\sklearn\\preprocessing\\label.py:252: DataConversionWarning: A column-vector y was passed when a 1d array was expected. Please change the shape of y to (n_samples, ), for example using ravel().\n",
      "  y = column_or_1d(y, warn=True)\n"
     ]
    },
    {
     "name": "stdout",
     "output_type": "stream",
     "text": [
      "  0.8655660377358491\n",
      "[[732   5]\n",
      " [109   2]]\n",
      "              precision    recall  f1-score   support\n",
      "\n",
      "           0       0.87      0.99      0.93       737\n",
      "           1       0.29      0.02      0.03       111\n",
      "\n",
      "    accuracy                           0.87       848\n",
      "   macro avg       0.58      0.51      0.48       848\n",
      "weighted avg       0.79      0.87      0.81       848\n",
      "\n",
      "(0.793860232491803, 0.8655660377358491, 0.8107539691707575, None)\n"
     ]
    }
   ],
   "source": [
    "##### ica = FastICA(n_components = 3)\n",
    "X4_ica = ica.fit_transform(x_features)\n",
    "XG_train(X4_ica,y_features)"
   ]
  },
  {
   "cell_type": "code",
   "execution_count": 26,
   "metadata": {},
   "outputs": [
    {
     "name": "stdout",
     "output_type": "stream",
     "text": [
      "[1971.61509236  143.5636573    68.46249996]\n"
     ]
    },
    {
     "name": "stderr",
     "output_type": "stream",
     "text": [
      "C:\\Users\\Praty\\Anaconda3\\lib\\site-packages\\sklearn\\preprocessing\\label.py:219: DataConversionWarning: A column-vector y was passed when a 1d array was expected. Please change the shape of y to (n_samples, ), for example using ravel().\n",
      "  y = column_or_1d(y, warn=True)\n",
      "C:\\Users\\Praty\\Anaconda3\\lib\\site-packages\\sklearn\\preprocessing\\label.py:252: DataConversionWarning: A column-vector y was passed when a 1d array was expected. Please change the shape of y to (n_samples, ), for example using ravel().\n",
      "  y = column_or_1d(y, warn=True)\n"
     ]
    },
    {
     "name": "stdout",
     "output_type": "stream",
     "text": [
      "  0.8667452830188679\n",
      "[[734   3]\n",
      " [110   1]]\n",
      "              precision    recall  f1-score   support\n",
      "\n",
      "           0       0.87      1.00      0.93       737\n",
      "           1       0.25      0.01      0.02       111\n",
      "\n",
      "    accuracy                           0.87       848\n",
      "   macro avg       0.56      0.50      0.47       848\n",
      "weighted avg       0.79      0.87      0.81       848\n",
      "\n",
      "(0.7885560113565234, 0.8667452830188679, 0.8092621231720611, None)\n"
     ]
    }
   ],
   "source": [
    "##### pca = PCA(n_components = 3, svd_solver = 'full')\n",
    "X4_pca = pca.fit_transform(x_features)\n",
    "print(pca.explained_variance_)\n",
    "XG_train(X4_pca, y_features)"
   ]
  },
  {
   "cell_type": "code",
   "execution_count": 24,
   "metadata": {},
   "outputs": [
    {
     "name": "stderr",
     "output_type": "stream",
     "text": [
      "C:\\Users\\Praty\\Anaconda3\\lib\\site-packages\\sklearn\\utils\\validation.py:724: DataConversionWarning: A column-vector y was passed when a 1d array was expected. Please change the shape of y to (n_samples, ), for example using ravel().\n",
      "  y = column_or_1d(y, warn=True)\n",
      "C:\\Users\\Praty\\Anaconda3\\lib\\site-packages\\sklearn\\preprocessing\\label.py:219: DataConversionWarning: A column-vector y was passed when a 1d array was expected. Please change the shape of y to (n_samples, ), for example using ravel().\n",
      "  y = column_or_1d(y, warn=True)\n",
      "C:\\Users\\Praty\\Anaconda3\\lib\\site-packages\\sklearn\\preprocessing\\label.py:252: DataConversionWarning: A column-vector y was passed when a 1d array was expected. Please change the shape of y to (n_samples, ), for example using ravel().\n",
      "  y = column_or_1d(y, warn=True)\n"
     ]
    },
    {
     "name": "stdout",
     "output_type": "stream",
     "text": [
      "Original number of features: 11\n",
      "Reduced number of features: 1\n",
      "  0.8667452830188679\n",
      "[[735   2]\n",
      " [111   0]]\n",
      "              precision    recall  f1-score   support\n",
      "\n",
      "           0       0.87      1.00      0.93       737\n",
      "           1       0.00      0.00      0.00       111\n",
      "\n",
      "    accuracy                           0.87       848\n",
      "   macro avg       0.43      0.50      0.46       848\n",
      "weighted avg       0.76      0.87      0.81       848\n",
      "\n",
      "(0.7550724274053258, 0.8667452830188679, 0.8070641485595778, None)\n"
     ]
    }
   ],
   "source": [
    "#LDA\n",
    "lda = LinearDiscriminantAnalysis(n_components = 1)\n",
    "x4_lda = lda.fit(x_features, y_features).transform(x_features)\n",
    "print('Original number of features:', x_features.shape[1])\n",
    "print('Reduced number of features:', x4_lda.shape[1])\n",
    "XG_train(x4_lda, y_features)"
   ]
  },
  {
   "cell_type": "markdown",
   "metadata": {},
   "source": [
    "# K NEAREST NEIGHBOURS"
   ]
  },
  {
   "cell_type": "code",
   "execution_count": 27,
   "metadata": {},
   "outputs": [],
   "source": [
    "from sklearn.ensemble import BaggingClassifier\n",
    "from sklearn.neighbors import KNeighborsClassifier"
   ]
  },
  {
   "cell_type": "code",
   "execution_count": 28,
   "metadata": {},
   "outputs": [],
   "source": [
    "def KNN_train(x_features,y_features):\n",
    "    X_Train, X_Test, Y_Train, Y_Test = model_selection.train_test_split(x_features, y_features, test_size=0.20, random_state = 101)\n",
    "    KNN_Classifier = BaggingClassifier(KNeighborsClassifier(),max_samples=0.4, max_features=0.6).fit(X_Train, Y_Train)\n",
    "    KNN_Classifier.fit(X_Train, Y_Train)\n",
    "    predict_KNN = KNN_Classifier.predict(X_Test)\n",
    "    print(\" \",metrics.accuracy_score(Y_Test,predict_KNN))\n",
    "    print(confusion_matrix(Y_Test, predict_KNN))\n",
    "    print(classification_report(Y_Test, predict_KNN))\n",
    "    print(precision_recall_fscore_support(Y_Test, predict_KNN, average='weighted'))"
   ]
  },
  {
   "cell_type": "code",
   "execution_count": 29,
   "metadata": {},
   "outputs": [
    {
     "name": "stdout",
     "output_type": "stream",
     "text": [
      "  0.8691037735849056\n",
      "[[737   0]\n",
      " [111   0]]\n",
      "              precision    recall  f1-score   support\n",
      "\n",
      "           0       0.87      1.00      0.93       737\n",
      "           1       0.00      0.00      0.00       111\n",
      "\n",
      "    accuracy                           0.87       848\n",
      "   macro avg       0.43      0.50      0.46       848\n",
      "weighted avg       0.76      0.87      0.81       848\n",
      "\n",
      "(0.755341369259523, 0.8691037735849056, 0.8082390929111362, None)\n"
     ]
    },
    {
     "name": "stderr",
     "output_type": "stream",
     "text": [
      "C:\\Users\\Praty\\Anaconda3\\lib\\site-packages\\sklearn\\ensemble\\bagging.py:623: DataConversionWarning: A column-vector y was passed when a 1d array was expected. Please change the shape of y to (n_samples, ), for example using ravel().\n",
      "  y = column_or_1d(y, warn=True)\n",
      "C:\\Users\\Praty\\Anaconda3\\lib\\site-packages\\sklearn\\ensemble\\bagging.py:623: DataConversionWarning: A column-vector y was passed when a 1d array was expected. Please change the shape of y to (n_samples, ), for example using ravel().\n",
      "  y = column_or_1d(y, warn=True)\n",
      "C:\\Users\\Praty\\Anaconda3\\lib\\site-packages\\sklearn\\metrics\\classification.py:1437: UndefinedMetricWarning: Precision and F-score are ill-defined and being set to 0.0 in labels with no predicted samples.\n",
      "  'precision', 'predicted', average, warn_for)\n"
     ]
    }
   ],
   "source": [
    "KNN_train(x_features, y_features)"
   ]
  },
  {
   "cell_type": "code",
   "execution_count": 30,
   "metadata": {},
   "outputs": [
    {
     "name": "stdout",
     "output_type": "stream",
     "text": [
      "  0.8691037735849056\n",
      "[[737   0]\n",
      " [111   0]]\n",
      "              precision    recall  f1-score   support\n",
      "\n",
      "           0       0.87      1.00      0.93       737\n",
      "           1       0.00      0.00      0.00       111\n",
      "\n",
      "    accuracy                           0.87       848\n",
      "   macro avg       0.43      0.50      0.46       848\n",
      "weighted avg       0.76      0.87      0.81       848\n",
      "\n",
      "(0.755341369259523, 0.8691037735849056, 0.8082390929111362, None)\n"
     ]
    },
    {
     "name": "stderr",
     "output_type": "stream",
     "text": [
      "C:\\Users\\Praty\\Anaconda3\\lib\\site-packages\\sklearn\\ensemble\\bagging.py:623: DataConversionWarning: A column-vector y was passed when a 1d array was expected. Please change the shape of y to (n_samples, ), for example using ravel().\n",
      "  y = column_or_1d(y, warn=True)\n",
      "C:\\Users\\Praty\\Anaconda3\\lib\\site-packages\\sklearn\\ensemble\\bagging.py:623: DataConversionWarning: A column-vector y was passed when a 1d array was expected. Please change the shape of y to (n_samples, ), for example using ravel().\n",
      "  y = column_or_1d(y, warn=True)\n",
      "C:\\Users\\Praty\\Anaconda3\\lib\\site-packages\\sklearn\\metrics\\classification.py:1437: UndefinedMetricWarning: Precision and F-score are ill-defined and being set to 0.0 in labels with no predicted samples.\n",
      "  'precision', 'predicted', average, warn_for)\n"
     ]
    }
   ],
   "source": [
    "ica = FastICA(n_components = 3)\n",
    "X5_ica = ica.fit_transform(x_features)\n",
    "KNN_train(X5_ica,y_features)"
   ]
  },
  {
   "cell_type": "code",
   "execution_count": 31,
   "metadata": {},
   "outputs": [
    {
     "name": "stdout",
     "output_type": "stream",
     "text": [
      "[1971.61509236  143.5636573    68.46249996]\n",
      "  0.8691037735849056\n",
      "[[737   0]\n",
      " [111   0]]\n",
      "              precision    recall  f1-score   support\n",
      "\n",
      "           0       0.87      1.00      0.93       737\n",
      "           1       0.00      0.00      0.00       111\n",
      "\n",
      "    accuracy                           0.87       848\n",
      "   macro avg       0.43      0.50      0.46       848\n",
      "weighted avg       0.76      0.87      0.81       848\n",
      "\n",
      "(0.755341369259523, 0.8691037735849056, 0.8082390929111362, None)\n"
     ]
    },
    {
     "name": "stderr",
     "output_type": "stream",
     "text": [
      "C:\\Users\\Praty\\Anaconda3\\lib\\site-packages\\sklearn\\ensemble\\bagging.py:623: DataConversionWarning: A column-vector y was passed when a 1d array was expected. Please change the shape of y to (n_samples, ), for example using ravel().\n",
      "  y = column_or_1d(y, warn=True)\n",
      "C:\\Users\\Praty\\Anaconda3\\lib\\site-packages\\sklearn\\ensemble\\bagging.py:623: DataConversionWarning: A column-vector y was passed when a 1d array was expected. Please change the shape of y to (n_samples, ), for example using ravel().\n",
      "  y = column_or_1d(y, warn=True)\n",
      "C:\\Users\\Praty\\Anaconda3\\lib\\site-packages\\sklearn\\metrics\\classification.py:1437: UndefinedMetricWarning: Precision and F-score are ill-defined and being set to 0.0 in labels with no predicted samples.\n",
      "  'precision', 'predicted', average, warn_for)\n"
     ]
    }
   ],
   "source": [
    "pca = PCA(n_components = 3, svd_solver = 'full')\n",
    "X5_pca = pca.fit_transform(x_features)\n",
    "print(pca.explained_variance_)\n",
    "KNN_train(X5_pca, y_features)"
   ]
  },
  {
   "cell_type": "code",
   "execution_count": 32,
   "metadata": {},
   "outputs": [
    {
     "name": "stdout",
     "output_type": "stream",
     "text": [
      "Original number of features: 11\n",
      "Reduced number of features: 1\n",
      "  0.8596698113207547\n",
      "[[728   9]\n",
      " [110   1]]\n",
      "              precision    recall  f1-score   support\n",
      "\n",
      "           0       0.87      0.99      0.92       737\n",
      "           1       0.10      0.01      0.02       111\n",
      "\n",
      "    accuracy                           0.86       848\n",
      "   macro avg       0.48      0.50      0.47       848\n",
      "weighted avg       0.77      0.86      0.81       848\n",
      "\n",
      "(0.7681105619849597, 0.8596698113207547, 0.8056017291266004, None)\n"
     ]
    },
    {
     "name": "stderr",
     "output_type": "stream",
     "text": [
      "C:\\Users\\Praty\\Anaconda3\\lib\\site-packages\\sklearn\\utils\\validation.py:724: DataConversionWarning: A column-vector y was passed when a 1d array was expected. Please change the shape of y to (n_samples, ), for example using ravel().\n",
      "  y = column_or_1d(y, warn=True)\n",
      "C:\\Users\\Praty\\Anaconda3\\lib\\site-packages\\sklearn\\ensemble\\bagging.py:623: DataConversionWarning: A column-vector y was passed when a 1d array was expected. Please change the shape of y to (n_samples, ), for example using ravel().\n",
      "  y = column_or_1d(y, warn=True)\n",
      "C:\\Users\\Praty\\Anaconda3\\lib\\site-packages\\sklearn\\ensemble\\bagging.py:623: DataConversionWarning: A column-vector y was passed when a 1d array was expected. Please change the shape of y to (n_samples, ), for example using ravel().\n",
      "  y = column_or_1d(y, warn=True)\n"
     ]
    }
   ],
   "source": [
    "#LDA\n",
    "lda = LinearDiscriminantAnalysis(n_components = 1)\n",
    "x5_lda = lda.fit(x_features, y_features).transform(x_features)\n",
    "print('Original number of features:', x_features.shape[1])\n",
    "print('Reduced number of features:', x5_lda.shape[1])\n",
    "KNN_train(x5_lda, y_features)"
   ]
  },
  {
   "cell_type": "markdown",
   "metadata": {},
   "source": [
    "# ann model"
   ]
  },
  {
   "cell_type": "code",
   "execution_count": null,
   "metadata": {},
   "outputs": [],
   "source": [
    "from sklearn.preprocessing import StandardScaler\n",
    "from sklearn.model_selection import train_test_split\n",
    "sc = StandardScaler()\n",
    "X_train, X_test, Y_train, Y_test = train_test_split(x_features, y_features, test_size = 0.2, random_state = 0)\n",
    "X_train = sc.fit_transform(X_train)\n",
    "X_test = sc.transform(X_test)"
   ]
  },
  {
   "cell_type": "code",
   "execution_count": null,
   "metadata": {},
   "outputs": [],
   "source": [
    "import keras\n",
    "from keras.models import Sequential\n",
    "from keras.layers import Dense"
   ]
  },
  {
   "cell_type": "code",
   "execution_count": null,
   "metadata": {},
   "outputs": [],
   "source": [
    "classifier = Sequential()"
   ]
  },
  {
   "cell_type": "code",
   "execution_count": null,
   "metadata": {},
   "outputs": [],
   "source": [
    "classifier.add(Dense(output_dim = 18, init = 'uniform', activation = 'relu', input_dim = 11))\n",
    "classifier.add(Dense(output_dim = 10, init = 'uniform', activation = 'relu'))\n",
    "classifier.add(Dense(output_dim = 1, init = 'uniform', activation = 'sigmoid'))"
   ]
  },
  {
   "cell_type": "code",
   "execution_count": null,
   "metadata": {},
   "outputs": [],
   "source": [
    "classifier.compile(optimizer = 'adam', loss = 'binary_crossentropy', metrics = ['accuracy'])"
   ]
  },
  {
   "cell_type": "code",
   "execution_count": null,
   "metadata": {},
   "outputs": [],
   "source": [
    "classifier.fit(X_train, Y_train, batch_size = 10 , nb_epoch = 1000)"
   ]
  },
  {
   "cell_type": "code",
   "execution_count": null,
   "metadata": {},
   "outputs": [],
   "source": [
    "y_pred = classifier.predict(X_test)\n",
    "y_pred = (y_pred > 0.5)"
   ]
  },
  {
   "cell_type": "code",
   "execution_count": null,
   "metadata": {},
   "outputs": [],
   "source": [
    "print(y_pred)"
   ]
  },
  {
   "cell_type": "code",
   "execution_count": null,
   "metadata": {},
   "outputs": [],
   "source": [
    "from sklearn.metrics import confusion_matrix\n",
    "cm = confusion_matrix(Y_test, y_pred)\n",
    "print(cm)"
   ]
  },
  {
   "cell_type": "code",
   "execution_count": null,
   "metadata": {},
   "outputs": [],
   "source": [
    "from sklearn.metrics import accuracy_score\n",
    "accuracy = accuracy_score(y_pred, Y_test)"
   ]
  },
  {
   "cell_type": "code",
   "execution_count": null,
   "metadata": {},
   "outputs": [],
   "source": [
    "accuracy"
   ]
  },
  {
   "cell_type": "code",
   "execution_count": null,
   "metadata": {},
   "outputs": [],
   "source": []
  }
 ],
 "metadata": {
  "kernelspec": {
   "display_name": "Python 3",
   "language": "python",
   "name": "python3"
  },
  "language_info": {
   "codemirror_mode": {
    "name": "ipython",
    "version": 3
   },
   "file_extension": ".py",
   "mimetype": "text/x-python",
   "name": "python",
   "nbconvert_exporter": "python",
   "pygments_lexer": "ipython3",
   "version": "3.7.4"
  }
 },
 "nbformat": 4,
 "nbformat_minor": 2
}
